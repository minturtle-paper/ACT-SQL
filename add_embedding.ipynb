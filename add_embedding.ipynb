{
 "cells": [
  {
   "cell_type": "code",
   "execution_count": 2,
   "id": "adb61b77",
   "metadata": {},
   "outputs": [
    {
     "name": "stderr",
     "output_type": "stream",
     "text": [
      "c:\\Users\\user\\Desktop\\papers\\imples\\act-sql\\.venv\\Lib\\site-packages\\tqdm\\auto.py:21: TqdmWarning: IProgress not found. Please update jupyter and ipywidgets. See https://ipywidgets.readthedocs.io/en/stable/user_install.html\n",
      "  from .autonotebook import tqdm as notebook_tqdm\n"
     ]
    },
    {
     "name": "stdout",
     "output_type": "stream",
     "text": [
      "Using device: cpu\n",
      "SentenceTransformer 모델이 로드되었습니다.\n"
     ]
    }
   ],
   "source": [
    "import json\n",
    "import os\n",
    "from sentence_transformers import SentenceTransformer\n",
    "import torch\n",
    "\n",
    "# GPU 사용 가능 여부 확인\n",
    "device = 'cuda' if torch.cuda.is_available() else 'cpu'\n",
    "print(f\"Using device: {device}\")\n",
    "\n",
    "# SentenceTransformer 모델 로드\n",
    "model_path = os.path.join('plm', 'paraphrase-multilingual-MiniLM-L12-v2')\n",
    "sentence_encoder = SentenceTransformer(model_path, device=device)\n",
    "\n",
    "print(\"SentenceTransformer 모델이 로드되었습니다.\")\n",
    "\n",
    "# cot.json 파일 로드\n",
    "with open('cot_ko.json', 'r', encoding='utf-8') as f:\n",
    "    cot_data = json.load(f)\n",
    "\n",
    "questions = [item['question'] for item in cot_data]\n",
    "queries = [item['query'] for item in cot_data]"
   ]
  },
  {
   "cell_type": "code",
   "execution_count": 3,
   "id": "a464d669",
   "metadata": {},
   "outputs": [
    {
     "name": "stderr",
     "output_type": "stream",
     "text": [
      "Batches: 100%|██████████| 33/33 [00:06<00:00,  5.06it/s]\n",
      "Batches: 100%|██████████| 33/33 [00:12<00:00,  2.72it/s]\n"
     ]
    }
   ],
   "source": [
    "question_embeddings = sentence_encoder.encode(\n",
    "    questions,\n",
    "    batch_size=32,\n",
    "    show_progress_bar=True,\n",
    "    normalize_embeddings=True,\n",
    "    convert_to_tensor=True,\n",
    "    device=device\n",
    ").cpu().tolist()\n",
    "\n",
    "query_embeddings = sentence_encoder.encode(\n",
    "    queries,\n",
    "    batch_size=32,\n",
    "    show_progress_bar=True,\n",
    "    normalize_embeddings=True,\n",
    "    convert_to_tensor=True,\n",
    "    device=device\n",
    ").cpu().tolist()"
   ]
  },
  {
   "cell_type": "code",
   "execution_count": null,
   "id": "1da3e5be",
   "metadata": {},
   "outputs": [
    {
     "name": "stdout",
     "output_type": "stream",
     "text": [
      "원본 데이터에 embedding 추가 중...\n"
     ]
    }
   ],
   "source": [
    "# 원본 데이터에 embedding 추가\n",
    "print(\"원본 데이터에 embedding 추가 중...\")\n",
    "for i, item in enumerate(cot_data):\n",
    "    item['question_embedding'] = question_embeddings[i]\n",
    "    item['query_embedding'] = query_embeddings[i]\n",
    "\n",
    "json.dump(cot_data, open('cot_ko.json', 'w', encoding='utf-8'), ensure_ascii=False, indent=2)"
   ]
  },
  {
   "cell_type": "code",
   "execution_count": null,
   "id": "8329cfaf",
   "metadata": {},
   "outputs": [],
   "source": [
    "\n"
   ]
  }
 ],
 "metadata": {
  "kernelspec": {
   "display_name": ".venv",
   "language": "python",
   "name": "python3"
  },
  "language_info": {
   "codemirror_mode": {
    "name": "ipython",
    "version": 3
   },
   "file_extension": ".py",
   "mimetype": "text/x-python",
   "name": "python",
   "nbconvert_exporter": "python",
   "pygments_lexer": "ipython3",
   "version": "3.11.9"
  }
 },
 "nbformat": 4,
 "nbformat_minor": 5
}
